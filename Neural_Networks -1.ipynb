{
 "cells": [
  {
   "cell_type": "markdown",
   "metadata": {},
   "source": [
    "# Neural Networks"
   ]
  },
  {
   "cell_type": "markdown",
   "metadata": {},
   "source": [
    "### Function Composition\n",
    "\n",
    "#### g ( f ( x ) ) \n",
    "- If these functions are linear, result will be linear\n",
    "- If these functions are non-linear, the degree of polynomial will keep increasing"
   ]
  },
  {
   "cell_type": "markdown",
   "metadata": {},
   "source": [
    "### Neural Neworks = Logistic Regressions chained on top of each other\n",
    "\n",
    "#### Activation Functions\n",
    "- Non-linear functions in this context are called Activation Functions\n",
    "- Logistic Function (Sigmoid) is the activation here.\n",
    "\n",
    "#### Logistic Regression --(S)---\n",
    "\n",
    "where\n",
    "- W'X (Transpose) --( )--\n",
    "- Sigmoid --S--\n",
    "\n",
    "\n",
    "##### --[W1]--[S]--[W2]--[S]---\n",
    "\n",
    "1. Linear: Y0 = W1'X \n",
    "2. Logistic: Y1 = sig(Y0)\n",
    "\n",
    "3. Linear Y2 = W2'Y1\n",
    "4. Logistic: sig(Y2)"
   ]
  },
  {
   "cell_type": "markdown",
   "metadata": {},
   "source": [
    "#### Universal Function Approximator\n",
    "\n",
    "If the last node in chain is:\n",
    "- Linear  then NeuralNet will do regression. Ex: y = x\n",
    "- --(S)--(S)--(/)--\n",
    "- Probabilistic then NeuralNet will do classification. Ex: y = sig(x)\n",
    "- --(S)--(S)--(S)--\n",
    "\n",
    "\n",
    "Last node depends on the task. Classification vs Regression."
   ]
  },
  {
   "cell_type": "markdown",
   "metadata": {},
   "source": [
    "# Architecture\n",
    "\n",
    "- Bipartite graph\n",
    "- Hidden Layer\n",
    "- Neurons\n",
    "- Dense Layer (Fully connected layer)\n",
    "- DAG: Directed Acyclical Graph (Feed-forward Neural Networks)\n",
    "\n",
    "\n",
    "Solver (optimizer)\n",
    "- sgd: stochastic gradient descent (Update rule uses only the 1-st derivative)\n",
    "- adam: similar to sgd\n",
    "- lbfgs: quasi-Newton methods (Also computes 2nd derivative. Slow. Refer: Hessian Matrix)\n",
    "\n",
    "\n",
    "Loss/Error\n",
    "- MSE: Mean squared error (used with linear)\n",
    "- BCE: Binary cross entropy (used with sigmoid)\n",
    "- CCE: Categorical cross entropy (used with softmax)\n",
    "\n",
    "\n",
    "Activation\n",
    "We can use any activation function as long as it is non-linear\n",
    "- Logistic or Sigmoid\n",
    "- ReLU (Rectified Linear Unit) = max(0, x)\n",
    "- tanh\n",
    "- identity (This is linear!)\n",
    "\n",
    "Softmax\n",
    "- Generalized Sigmoid for multi-class classification"
   ]
  },
  {
   "cell_type": "code",
   "execution_count": 3,
   "metadata": {},
   "outputs": [
    {
     "name": "stdout",
     "output_type": "stream",
     "text": [
      "[0.01165623 0.03168492 0.08612854 0.23412166 0.63640865]\n"
     ]
    }
   ],
   "source": [
    "import numpy as np\n",
    "\n",
    "def softmax(np_array):\n",
    "    return np.exp(np_array) / np.sum(np.exp(np_array))\n",
    "\n",
    "a = np.array([0, 1, 2, 3, 4])\n",
    "print(softmax(a))"
   ]
  },
  {
   "cell_type": "code",
   "execution_count": null,
   "metadata": {},
   "outputs": [],
   "source": []
  },
  {
   "cell_type": "code",
   "execution_count": null,
   "metadata": {},
   "outputs": [],
   "source": []
  },
  {
   "cell_type": "code",
   "execution_count": null,
   "metadata": {},
   "outputs": [],
   "source": []
  },
  {
   "cell_type": "code",
   "execution_count": null,
   "metadata": {},
   "outputs": [],
   "source": []
  },
  {
   "cell_type": "code",
   "execution_count": null,
   "metadata": {},
   "outputs": [],
   "source": [
    "import warnings\n",
    "warnings.simplefilter(\"ignore\")"
   ]
  },
  {
   "cell_type": "code",
   "execution_count": 5,
   "metadata": {},
   "outputs": [],
   "source": [
    "X_train = [[0., 0.], [1., 1.], [0., 1.],  [1., 0.]]\n",
    "Y_train = [0, 0, 1, 1]\n",
    "\n",
    "X_test = [[0., 0.], [1., 1.], [0., 1.],  [1., 0.]]\n",
    "Y_test = [0, 0, 1, 1]"
   ]
  },
  {
   "cell_type": "markdown",
   "metadata": {},
   "source": [
    "## Logistic Regression"
   ]
  },
  {
   "cell_type": "code",
   "execution_count": 6,
   "metadata": {},
   "outputs": [
    {
     "name": "stdout",
     "output_type": "stream",
     "text": [
      "50.0\n"
     ]
    }
   ],
   "source": [
    "from sklearn.linear_model import LogisticRegression\n",
    "ls = LogisticRegression()\n",
    "ls.fit(X_train, Y_train)\n",
    "print(ls.score(X_test, Y_test) * 100)"
   ]
  },
  {
   "cell_type": "markdown",
   "metadata": {},
   "source": [
    "## KNN"
   ]
  },
  {
   "cell_type": "code",
   "execution_count": 10,
   "metadata": {},
   "outputs": [
    {
     "name": "stdout",
     "output_type": "stream",
     "text": [
      "100.0\n",
      "50.0\n",
      "0.0\n"
     ]
    }
   ],
   "source": [
    "from sklearn.neighbors import KNeighborsClassifier\n",
    "\n",
    "knn = KNeighborsClassifier(n_neighbors=1)\n",
    "knn.fit(X_train, Y_train) \n",
    "print(knn.score(X_test, Y_test) * 100)\n",
    "\n",
    "knn = KNeighborsClassifier(n_neighbors=2)\n",
    "knn.fit(X_train, Y_train) \n",
    "print(knn.score(X_test, Y_test) * 100)\n",
    "\n",
    "knn = KNeighborsClassifier(n_neighbors=3)\n",
    "knn.fit(X_train, Y_train) \n",
    "print(knn.score(X_test, Y_test) * 100)"
   ]
  },
  {
   "cell_type": "markdown",
   "metadata": {},
   "source": [
    "# Neural Network (Multi Layer Perceptron)"
   ]
  },
  {
   "cell_type": "code",
   "execution_count": 8,
   "metadata": {},
   "outputs": [
    {
     "name": "stdout",
     "output_type": "stream",
     "text": [
      "100.0\n"
     ]
    }
   ],
   "source": [
    "from sklearn.neural_network import MLPClassifier\n",
    "mlp = MLPClassifier(solver='lbfgs', \n",
    "                    alpha=1e-5, \n",
    "                    hidden_layer_sizes=(2), \n",
    "                    random_state=100, \n",
    "                    activation='logistic', \n",
    "                    max_iter=200)\n",
    "mlp.fit(X_train, Y_train)\n",
    "print(mlp.score(X_test, Y_test) * 100)"
   ]
  },
  {
   "cell_type": "code",
   "execution_count": 12,
   "metadata": {},
   "outputs": [
    {
     "name": "stdout",
     "output_type": "stream",
     "text": [
      "Training loss = 0.0017565295428801397\n",
      "\n",
      "Coefficients :\n",
      "[array([[ 9.54283814, 18.82705234],\n",
      "       [-6.95260882, -8.57612662]]), array([[ 17.27311249],\n",
      "       [-16.67700819]])]\n",
      "\n",
      "Intercepts :\n",
      "[array([-5.87122431,  3.23879431]), array([7.90297724])]\n",
      "\n",
      "Predict for [[0., 0.], [1., 1.], [0., 1.],  [1., 0.]]\n",
      "Predicted value = [0 0 1 1]\n"
     ]
    }
   ],
   "source": [
    "print(\"Training loss = \" + str(mlp.loss_))\n",
    "print()\n",
    "print(\"Coefficients :\")\n",
    "print(mlp.coefs_)\n",
    "print()\n",
    "print(\"Intercepts :\")\n",
    "print(mlp.intercepts_)\n",
    "print()\n",
    "print(\"Predict for [[0., 0.], [1., 1.], [0., 1.],  [1., 0.]]\")\n",
    "print(\"Predicted value = \"+ str(mlp.predict([[0., 0.], [1., 1.], [0., 1.],  [1., 0.]])))"
   ]
  },
  {
   "cell_type": "markdown",
   "metadata": {},
   "source": [
    "# Keras\n",
    "\n",
    "Higher level library on top of \n",
    "- TensorFlow\n",
    "- Pytorch"
   ]
  },
  {
   "cell_type": "markdown",
   "metadata": {},
   "source": [
    "# Industry\n",
    "\n",
    "When you don't have the features (70% times)\n",
    "- Use Neural Nets becuase they also extract features from data\n",
    "- Example of unstructured data: MNIST \n",
    "\n",
    "When you have features (30% times)\n",
    "- Random Decision forest\n",
    "- XGBoost Classifier\n",
    "- Example of structured data: Titanic "
   ]
  },
  {
   "cell_type": "code",
   "execution_count": null,
   "metadata": {},
   "outputs": [],
   "source": []
  },
  {
   "cell_type": "code",
   "execution_count": null,
   "metadata": {},
   "outputs": [],
   "source": []
  },
  {
   "cell_type": "code",
   "execution_count": null,
   "metadata": {},
   "outputs": [],
   "source": []
  },
  {
   "cell_type": "code",
   "execution_count": null,
   "metadata": {},
   "outputs": [],
   "source": []
  },
  {
   "cell_type": "code",
   "execution_count": null,
   "metadata": {},
   "outputs": [],
   "source": []
  },
  {
   "cell_type": "code",
   "execution_count": null,
   "metadata": {},
   "outputs": [],
   "source": []
  },
  {
   "cell_type": "code",
   "execution_count": null,
   "metadata": {},
   "outputs": [],
   "source": []
  },
  {
   "cell_type": "code",
   "execution_count": null,
   "metadata": {},
   "outputs": [],
   "source": []
  },
  {
   "cell_type": "code",
   "execution_count": null,
   "metadata": {},
   "outputs": [],
   "source": []
  },
  {
   "cell_type": "code",
   "execution_count": null,
   "metadata": {},
   "outputs": [],
   "source": []
  },
  {
   "cell_type": "code",
   "execution_count": null,
   "metadata": {},
   "outputs": [],
   "source": []
  },
  {
   "cell_type": "code",
   "execution_count": null,
   "metadata": {},
   "outputs": [],
   "source": []
  },
  {
   "cell_type": "code",
   "execution_count": null,
   "metadata": {},
   "outputs": [],
   "source": []
  },
  {
   "cell_type": "code",
   "execution_count": null,
   "metadata": {},
   "outputs": [],
   "source": []
  },
  {
   "cell_type": "code",
   "execution_count": null,
   "metadata": {},
   "outputs": [],
   "source": []
  },
  {
   "cell_type": "code",
   "execution_count": null,
   "metadata": {},
   "outputs": [],
   "source": []
  },
  {
   "cell_type": "code",
   "execution_count": null,
   "metadata": {},
   "outputs": [],
   "source": []
  },
  {
   "cell_type": "code",
   "execution_count": null,
   "metadata": {},
   "outputs": [],
   "source": []
  },
  {
   "cell_type": "code",
   "execution_count": null,
   "metadata": {},
   "outputs": [],
   "source": []
  },
  {
   "cell_type": "code",
   "execution_count": null,
   "metadata": {},
   "outputs": [],
   "source": []
  },
  {
   "cell_type": "code",
   "execution_count": null,
   "metadata": {},
   "outputs": [],
   "source": []
  },
  {
   "cell_type": "code",
   "execution_count": null,
   "metadata": {},
   "outputs": [],
   "source": []
  },
  {
   "cell_type": "code",
   "execution_count": null,
   "metadata": {},
   "outputs": [],
   "source": []
  }
 ],
 "metadata": {
  "kernelspec": {
   "display_name": "Python 3",
   "language": "python",
   "name": "python3"
  },
  "language_info": {
   "codemirror_mode": {
    "name": "ipython",
    "version": 3
   },
   "file_extension": ".py",
   "mimetype": "text/x-python",
   "name": "python",
   "nbconvert_exporter": "python",
   "pygments_lexer": "ipython3",
   "version": "3.7.4"
  }
 },
 "nbformat": 4,
 "nbformat_minor": 2
}
