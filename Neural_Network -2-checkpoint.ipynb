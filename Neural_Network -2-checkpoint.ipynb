{
 "cells": [
  {
   "cell_type": "code",
   "execution_count": 2,
   "metadata": {},
   "outputs": [
    {
     "name": "stdout",
     "output_type": "stream",
     "text": [
      "[[1 2 1]\n",
      " [2 3 4]\n",
      " [2 3 1]\n",
      " [4 0 9]\n",
      " [2 0 8]\n",
      " [4 1 7]]\n"
     ]
    }
   ],
   "source": [
    "import numpy as np \n",
    "scores=np.array([[1,2,1],[2,3,4],[2,3,1],[4,0,9],[2,0,8],[4,1,7]])\n",
    "print(scores)"
   ]
  },
  {
   "cell_type": "code",
   "execution_count": 11,
   "metadata": {},
   "outputs": [
    {
     "name": "stdout",
     "output_type": "stream",
     "text": [
      "[[2.71828183e+00 7.38905610e+00 2.71828183e+00]\n",
      " [7.38905610e+00 2.00855369e+01 5.45981500e+01]\n",
      " [7.38905610e+00 2.00855369e+01 2.71828183e+00]\n",
      " [5.45981500e+01 1.00000000e+00 8.10308393e+03]\n",
      " [7.38905610e+00 1.00000000e+00 2.98095799e+03]\n",
      " [5.45981500e+01 2.71828183e+00 1.09663316e+03]]\n"
     ]
    }
   ],
   "source": [
    "a=np.exp(scores)\n",
    "print(a)"
   ]
  },
  {
   "cell_type": "code",
   "execution_count": 17,
   "metadata": {},
   "outputs": [
    {
     "name": "stdout",
     "output_type": "stream",
     "text": [
      "[[  12.82561976]\n",
      " [  82.07274306]\n",
      " [  30.19287485]\n",
      " [8158.68207761]\n",
      " [2989.34704314]\n",
      " [1153.94959029]]\n",
      "[  12.82561976   82.07274306   30.19287485 8158.68207761 2989.34704314\n",
      " 1153.94959029]\n",
      "[  12.82561976   82.07274306   30.19287485 8158.68207761 2989.34704314\n",
      " 1153.94959029]\n"
     ]
    }
   ],
   "source": [
    "b=np.sum(a,axis=1,keepdims=True)\n",
    "print(b)\n",
    "\n",
    "d=np.sum(a,axis=1)\n",
    "print(d)\n",
    "e=np.array(d)\n",
    "print(e)"
   ]
  },
  {
   "cell_type": "code",
   "execution_count": 14,
   "metadata": {
    "scrolled": true
   },
   "outputs": [
    {
     "name": "stdout",
     "output_type": "stream",
     "text": [
      "[[2.11941558e-01 5.76116885e-01 2.11941558e-01]\n",
      " [9.00305732e-02 2.44728471e-01 6.65240956e-01]\n",
      " [2.44728471e-01 6.65240956e-01 9.00305732e-02]\n",
      " [6.69203059e-03 1.22568816e-04 9.93185401e-01]\n",
      " [2.47179601e-03 3.34521213e-04 9.97193683e-01]\n",
      " [4.73141552e-02 2.35563308e-03 9.50330212e-01]]\n"
     ]
    }
   ],
   "source": [
    "c=a/b\n",
    "print(c)\n"
   ]
  },
  {
   "cell_type": "code",
   "execution_count": null,
   "metadata": {},
   "outputs": [],
   "source": []
  }
 ],
 "metadata": {
  "kernelspec": {
   "display_name": "Python 3",
   "language": "python",
   "name": "python3"
  },
  "language_info": {
   "codemirror_mode": {
    "name": "ipython",
    "version": 3
   },
   "file_extension": ".py",
   "mimetype": "text/x-python",
   "name": "python",
   "nbconvert_exporter": "python",
   "pygments_lexer": "ipython3",
   "version": "3.7.4"
  }
 },
 "nbformat": 4,
 "nbformat_minor": 2
}
